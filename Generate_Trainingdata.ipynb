{
 "cells": [
  {
   "cell_type": "markdown",
   "metadata": {},
   "source": [
    "# Section 4 - Computer vision-based machine learning #\n",
    "## Mini-project 4: Introduction to `SciNet` architecture ##\n",
    "\n",
    "## Dr. Antonin Vacheret (avachere@imperial.ac.uk) \n",
    "## High Energy Physics Group\n",
    "## 523 Blackett Lab"
   ]
  },
  {
   "cell_type": "markdown",
   "metadata": {},
   "source": [
    "#### The markdown comments were added by Shingo Hayashida (s.hayashida@imperial.ac.uk) ####\n",
    "* [Original repository](https://github.com/fd17/SciNet_PyTorch)\n",
    "* [Reference](https://arxiv.org/abs/1807.10300)"
   ]
  },
  {
   "cell_type": "code",
   "execution_count": 1,
   "metadata": {},
   "outputs": [],
   "source": [
    "import torch\n",
    "import torch.nn as nn\n",
    "import torch.nn.functional as F\n",
    "import numpy as np\n",
    "import random\n",
    "from matplotlib import pyplot as plt\n",
    "import torch.optim as optim\n",
    "from utils import pendulum as solution"
   ]
  },
  {
   "cell_type": "code",
   "execution_count": 2,
   "metadata": {},
   "outputs": [],
   "source": [
    "# Generate training data\n",
    "tmax = 10\n",
    "A0 = 1\n",
    "delta0 = 0\n",
    "m = 1\n",
    "\n",
    "train_outputs = []\n",
    "train_inputs = []\n",
    "data = []\n",
    "N_TRAIN = 100000\n",
    "\n",
    "N_SAMPLE = 50\n",
    "\n",
    "counter = 0\n",
    "while len(train_inputs) < N_TRAIN:\n",
    "\n",
    "    b = np.random.uniform(0.5,1)\n",
    "    k = np.random.uniform(5,10)\n",
    "    tprime = np.random.uniform(0,tmax)\n",
    "    question = tprime\n",
    "    answer = solution(tprime,A0,delta0,k,b,m)\n",
    "    if answer == None:\n",
    "        continue\n",
    "\n",
    "    t_arr = np.linspace(0,tmax,N_SAMPLE)\n",
    "    x = solution(t_arr,A0,delta0,k,b,m)\n",
    "    \n",
    "\n",
    "    \n",
    "    \n",
    "    combined_inputs = np.append(x, question)\n",
    "    train_inputs.append( combined_inputs )\n",
    "    train_outputs.append( answer )\n",
    "\n",
    "\n",
    "train_inputs = np.array(train_inputs)\n",
    "train_outputs = np.array(train_outputs)\n",
    "np.save(\"training_data/inputs.npy\", train_inputs)\n",
    "np.save(\"training_data/outputs.npy\", train_outputs)\n"
   ]
  },
  {
   "cell_type": "markdown",
   "metadata": {},
   "source": [
    "* `train_inputs` are composed of 50 points of pendulum oscillation and a time from the start as a question.\n",
    "* `train_outputs` are the answers to the questions (i.e. deviation of the pendulum from the center)"
   ]
  },
  {
   "cell_type": "code",
   "execution_count": 3,
   "metadata": {},
   "outputs": [
    {
     "name": "stdout",
     "output_type": "stream",
     "text": [
      "question: 3.019860356415843\n",
      "answer: 0.01772638446706922\n"
     ]
    },
    {
     "data": {
      "image/png": "[encoded data removed]",
      "text/plain": [
       "<Figure size 432x288 with 1 Axes>"
      ]
     },
     "metadata": {
      "needs_background": "light"
     },
     "output_type": "display_data"
    }
   ],
   "source": [
    "# Plot example training input\n",
    "plt.plot(train_inputs[0][0:-1],\".\", label='#0')\n",
    "plt.plot(train_inputs[1][0:-1],\".\", label='#1')\n",
    "plt.plot(train_inputs[2][0:-1],\".\", label='#2')\n",
    "plt.legend()\n",
    "print(\"question:\",train_inputs[0][-1])\n",
    "print(\"answer:\",train_outputs[0])"
   ]
  }
 ],
 "metadata": {
  "interpreter": {
   "hash": "31f2aee4e71d21fbe5cf8b01ff0e069b9275f58929596ceb00d14d90e3e16cd6"
  },
  "kernelspec": {
   "display_name": "Python (unityml)",
   "language": "python",
   "name": "python3"
  },
  "language_info": {
   "codemirror_mode": {
    "name": "ipython",
    "version": 3
   },
   "file_extension": ".py",
   "mimetype": "text/x-python",
   "name": "python",
   "nbconvert_exporter": "python",
   "pygments_lexer": "ipython3",
   "version": "3.6.8"
  }
 },
 "nbformat": 4,
 "nbformat_minor": 2
}
