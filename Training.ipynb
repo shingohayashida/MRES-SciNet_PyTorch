{
 "cells": [
  {
   "cell_type": "markdown",
   "metadata": {},
   "source": [
    "# Section 4 - Computer vision-based machine learning #\n",
    "## Mini-project 4: Introduction to `SciNet` architecture ##\n",
    "\n",
    "## Dr. Antonin Vacheret (avachere@imperial.ac.uk) \n",
    "## High Energy Physics Group\n",
    "## 523 Blackett Lab"
   ]
  },
  {
   "cell_type": "markdown",
   "metadata": {},
   "source": [
    "#### The markdown comments were added by Shingo Hayashida (s.hayashida@imperial.ac.uk) ####\n",
    "* [Original repository](https://github.com/fd17/SciNet_PyTorch)\n",
    "* [Reference](https://arxiv.org/abs/1807.10300)"
   ]
  },
  {
   "cell_type": "code",
   "execution_count": 1,
   "metadata": {},
   "outputs": [],
   "source": [
    "import torch\n",
    "import torch.nn as nn\n",
    "import torch.nn.functional as F\n",
    "import numpy as np\n",
    "import random\n",
    "from matplotlib import pyplot as plt\n",
    "import torch.optim as optim\n",
    "from torch.utils.data import DataLoader, TensorDataset\n",
    "from models import SciNet\n",
    "from utils import target_loss \n",
    "device = torch.device(\"cuda\")"
   ]
  },
  {
   "cell_type": "code",
   "execution_count": 2,
   "metadata": {
    "scrolled": false
   },
   "outputs": [],
   "source": [
    "# Setup scinet model with 3 latent neurons\n",
    "scinet = SciNet(50,1,3,64)\n",
    "\n",
    "# Load and prepare training data\n",
    "inputs = torch.Tensor(np.load(\"training_data/inputs.npy\"))\n",
    "outputs = torch.Tensor(np.load(\"training_data/outputs.npy\"))\n",
    "traindata = TensorDataset(inputs, outputs)\n",
    "dataloader = DataLoader(traindata, batch_size=256,shuffle=True, num_workers=1)\n",
    "     "
   ]
  },
  {
   "cell_type": "markdown",
   "metadata": {},
   "source": [
    "The structure of `scinet` is a very simple network."
   ]
  },
  {
   "cell_type": "code",
   "execution_count": 3,
   "metadata": {},
   "outputs": [
    {
     "name": "stdout",
     "output_type": "stream",
     "text": [
      "SciNet(\n",
      "  (enc1): Linear(in_features=50, out_features=64, bias=True)\n",
      "  (enc2): Linear(in_features=64, out_features=64, bias=True)\n",
      "  (latent): Linear(in_features=64, out_features=6, bias=True)\n",
      "  (dec1): Linear(in_features=4, out_features=64, bias=True)\n",
      "  (dec2): Linear(in_features=64, out_features=64, bias=True)\n",
      "  (out): Linear(in_features=64, out_features=1, bias=True)\n",
      ")\n"
     ]
    }
   ],
   "source": [
    "print(scinet)"
   ]
  },
  {
   "cell_type": "markdown",
   "metadata": {},
   "source": [
    "Training is stopped at epoch 20 to save time."
   ]
  },
  {
   "cell_type": "code",
   "execution_count": 4,
   "metadata": {
    "scrolled": true
   },
   "outputs": [
    {
     "name": "stdout",
     "output_type": "stream",
     "text": [
      "Epoch 1 -- loss 15.683833, RMS error 0.167526 \n",
      "Epoch 2 -- loss 6.728651, RMS error 0.119888 \n",
      "Epoch 3 -- loss 4.356395, RMS error 0.099458 \n",
      "Epoch 4 -- loss 3.613062, RMS error 0.090862 \n",
      "Epoch 5 -- loss 2.870888, RMS error 0.081965 \n",
      "Epoch 6 -- loss 2.253100, RMS error 0.073955 \n",
      "Epoch 7 -- loss 1.806874, RMS error 0.066875 \n",
      "Epoch 8 -- loss 1.532069, RMS error 0.062435 \n",
      "Epoch 9 -- loss 1.319365, RMS error 0.058359 \n",
      "Epoch 10 -- loss 1.217200, RMS error 0.056388 \n",
      "Epoch 11 -- loss 1.154410, RMS error 0.055126 \n",
      "Epoch 12 -- loss 1.092834, RMS error 0.053788 \n",
      "Epoch 13 -- loss 1.065153, RMS error 0.053271 \n",
      "Epoch 14 -- loss 1.018676, RMS error 0.052144 \n",
      "Epoch 15 -- loss 1.002565, RMS error 0.051854 \n",
      "Epoch 16 -- loss 0.963863, RMS error 0.050796 \n",
      "Epoch 17 -- loss 0.920495, RMS error 0.049742 \n",
      "Epoch 18 -- loss 0.878666, RMS error 0.048542 \n",
      "Epoch 19 -- loss 0.854573, RMS error 0.048195 \n",
      "Epoch 20 -- loss 0.764745, RMS error 0.045803 \n",
      "Model saved to trained_models/scinet1.dat\n"
     ]
    }
   ],
   "source": [
    "# Training setup\n",
    "SAVE_PATH = \"trained_models/scinet1.dat\"\n",
    "N_EPOCHS = 20 #100\n",
    "optimizer = optim.Adam(scinet.parameters())\n",
    "hist_error = []\n",
    "hist_loss = []\n",
    "beta = 0.5\n",
    "\n",
    "# Training loop\n",
    "for epoch in range(N_EPOCHS):  \n",
    "    epoch_error = []\n",
    "    epoch_loss = []\n",
    "    for i_batch, minibatch in enumerate(dataloader):\n",
    "\n",
    "        inputs, outputs = minibatch\n",
    "        optimizer.zero_grad()\n",
    "        pred = scinet.forward(inputs)\n",
    "        \n",
    "        loss = target_loss(pred, outputs) + beta * scinet.kl_loss\n",
    "        loss.backward()\n",
    "        optimizer.step()\n",
    "        error = torch.mean(torch.sqrt((pred[:,0]-outputs)**2)).detach().numpy()\n",
    "        epoch_error.append(error)\n",
    "        epoch_loss.append(loss.data.detach().numpy())\n",
    "    hist_error.append(np.mean(epoch_error))\n",
    "    hist_loss.append(np.mean(epoch_loss))\n",
    "    print(\"Epoch %d -- loss %f, RMS error %f \" % (epoch+1, hist_loss[-1], hist_error[-1]))\n",
    "    \n",
    "torch.save(scinet.state_dict(), SAVE_PATH)\n",
    "print(\"Model saved to %s\" % SAVE_PATH)"
   ]
  },
  {
   "cell_type": "code",
   "execution_count": 5,
   "metadata": {},
   "outputs": [
    {
     "data": {
      "image/png": "[encoded data removed]",
      "text/plain": [
       "<Figure size 432x288 with 2 Axes>"
      ]
     },
     "metadata": {
      "needs_background": "light"
     },
     "output_type": "display_data"
    }
   ],
   "source": [
    "# Plot some training history data\n",
    "%matplotlib inline \n",
    "f, (ax1, ax2) = plt.subplots(2, 1, sharex=True)\n",
    "ax1.plot(hist_error)\n",
    "ax1.set_ylabel(\"Amplitude RMSE\")\n",
    "ax2.plot(hist_loss)\n",
    "ax2.set_ylabel(\"Loss\")\n",
    "ax2.set_xlabel(\"Epoch\")\n",
    "plt.show()"
   ]
  },
  {
   "cell_type": "code",
   "execution_count": null,
   "metadata": {},
   "outputs": [],
   "source": []
  }
 ],
 "metadata": {
  "interpreter": {
   "hash": "31f2aee4e71d21fbe5cf8b01ff0e069b9275f58929596ceb00d14d90e3e16cd6"
  },
  "kernelspec": {
   "display_name": "Python (unityml)",
   "language": "python",
   "name": "python3"
  },
  "language_info": {
   "codemirror_mode": {
    "name": "ipython",
    "version": 3
   },
   "file_extension": ".py",
   "mimetype": "text/x-python",
   "name": "python",
   "nbconvert_exporter": "python",
   "pygments_lexer": "ipython3",
   "version": "3.6.8"
  }
 },
 "nbformat": 4,
 "nbformat_minor": 2
}
